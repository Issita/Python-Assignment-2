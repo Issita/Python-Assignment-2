{
 "cells": [
  {
   "cell_type": "code",
   "execution_count": 15,
   "id": "63373973-7bef-4fe6-816c-ac32dca4b41e",
   "metadata": {},
   "outputs": [],
   "source": [
    "# Explain with an example each when to use a for loop and a while loop."
   ]
  },
  {
   "cell_type": "code",
   "execution_count": 16,
   "id": "02ef9f3f-f1e0-4fd0-bdb2-9445051f2945",
   "metadata": {},
   "outputs": [],
   "source": [
    "# For loop: We should use a for loop when we need to iterate over a sequence (e.g. a list, tuple, string, etc.) a fixed number of times"
   ]
  },
  {
   "cell_type": "code",
   "execution_count": 17,
   "id": "b3bf7687-2b99-490a-9850-519cc81d8ff0",
   "metadata": {},
   "outputs": [
    {
     "name": "stdout",
     "output_type": "stream",
     "text": [
      "1\n",
      "2\n",
      "3\n",
      "4\n",
      "5\n"
     ]
    }
   ],
   "source": [
    "numbers = [1, 2, 3, 4, 5] \n",
    "for i in numbers: \n",
    "    print(i)\n",
    "    "
   ]
  },
  {
   "cell_type": "code",
   "execution_count": 18,
   "id": "08ed21c0-ed7d-4be1-b63a-34c291dc08f8",
   "metadata": {},
   "outputs": [],
   "source": [
    " # While loop: we should use a while loop when we need to repeat a block of code until a certain condition "
   ]
  },
  {
   "cell_type": "code",
   "execution_count": 19,
   "id": "26101bfb-5b1c-4f6a-b112-1a1a26663fc6",
   "metadata": {},
   "outputs": [
    {
     "name": "stdout",
     "output_type": "stream",
     "text": [
      "0\n",
      "1\n",
      "2\n",
      "3\n",
      "4\n"
     ]
    }
   ],
   "source": [
    "i = 0 \n",
    "while i < 5: \n",
    "    print(i) \n",
    "    i += 1\n",
    "    "
   ]
  },
  {
   "cell_type": "code",
   "execution_count": 20,
   "id": "6a85614f-03ee-4df0-a756-bff2278beba6",
   "metadata": {},
   "outputs": [],
   "source": [
    "# Write a python program to print the sum and product of the first 10 natural numbers using for and while loop."
   ]
  },
  {
   "cell_type": "code",
   "execution_count": 21,
   "id": "492c72a1-3add-4a87-a6f3-62a2e0912380",
   "metadata": {},
   "outputs": [
    {
     "name": "stdout",
     "output_type": "stream",
     "text": [
      "Sum of first 10 natural numbers: 1\n",
      "Product of first 10 natural numbers: 1\n",
      "Sum of first 10 natural numbers: 3\n",
      "Product of first 10 natural numbers: 2\n",
      "Sum of first 10 natural numbers: 6\n",
      "Product of first 10 natural numbers: 6\n",
      "Sum of first 10 natural numbers: 10\n",
      "Product of first 10 natural numbers: 24\n",
      "Sum of first 10 natural numbers: 15\n",
      "Product of first 10 natural numbers: 120\n",
      "Sum of first 10 natural numbers: 21\n",
      "Product of first 10 natural numbers: 720\n",
      "Sum of first 10 natural numbers: 28\n",
      "Product of first 10 natural numbers: 5040\n",
      "Sum of first 10 natural numbers: 36\n",
      "Product of first 10 natural numbers: 40320\n",
      "Sum of first 10 natural numbers: 45\n",
      "Product of first 10 natural numbers: 362880\n",
      "Sum of first 10 natural numbers: 55\n",
      "Product of first 10 natural numbers: 3628800\n"
     ]
    }
   ],
   "source": [
    "sum = 0 \n",
    "product = 1 \n",
    "for i in range(1, 11): \n",
    "    sum += i \n",
    "    product *= i \n",
    "    print(\"Sum of first 10 natural numbers:\", sum) \n",
    "    print(\"Product of first 10 natural numbers:\", product)\n",
    "    "
   ]
  },
  {
   "cell_type": "code",
   "execution_count": 22,
   "id": "54a921c0-f44e-4290-ae21-4b9df0cd2a59",
   "metadata": {},
   "outputs": [
    {
     "name": "stdout",
     "output_type": "stream",
     "text": [
      "Sum of first 10 natural numbers: 1\n",
      "Product of first 10 natural numbers: 1\n",
      "Sum of first 10 natural numbers: 3\n",
      "Product of first 10 natural numbers: 2\n",
      "Sum of first 10 natural numbers: 6\n",
      "Product of first 10 natural numbers: 6\n",
      "Sum of first 10 natural numbers: 10\n",
      "Product of first 10 natural numbers: 24\n",
      "Sum of first 10 natural numbers: 15\n",
      "Product of first 10 natural numbers: 120\n",
      "Sum of first 10 natural numbers: 21\n",
      "Product of first 10 natural numbers: 720\n",
      "Sum of first 10 natural numbers: 28\n",
      "Product of first 10 natural numbers: 5040\n",
      "Sum of first 10 natural numbers: 36\n",
      "Product of first 10 natural numbers: 40320\n",
      "Sum of first 10 natural numbers: 45\n",
      "Product of first 10 natural numbers: 362880\n",
      "Sum of first 10 natural numbers: 55\n",
      "Product of first 10 natural numbers: 3628800\n"
     ]
    }
   ],
   "source": [
    "sum = 0 \n",
    "product = 1 \n",
    "i = 1\n",
    "while (i<=10):\n",
    "    sum += i \n",
    "    product *= i \n",
    "    i += 1\n",
    "    print(\"Sum of first 10 natural numbers:\", sum)\n",
    "    print(\"Product of first 10 natural numbers:\", product)\n",
    "    "
   ]
  },
  {
   "cell_type": "code",
   "execution_count": 23,
   "id": "87a74403-5755-4fe4-b2b8-a68914654710",
   "metadata": {},
   "outputs": [],
   "source": [
    "# ''' Q3. Create a python program to compute the electricity bill for a household.\n",
    "\n",
    "# The per-unit charges in rupees are as follows: For the first 100 units, the user will be charged Rs. 4.5 per\n",
    "# unit, for the next 100 units, the user will be charged Rs. 6 per unit, and for the next 100 units, the user will\n",
    "# be charged Rs. 10 per unit, After 300 units and above the user will be charged Rs. 20 per unit.\n",
    "\n",
    "# You are required to take the units of electricity consumed in a month from the user as input.\n",
    "\n",
    "# Your program must pass this test case: when the unit of electricity consumed by the user in a month is\n",
    "# 310, the total electricity bill should be 2250. '''"
   ]
  },
  {
   "cell_type": "code",
   "execution_count": 24,
   "id": "1d9a7f69-314e-49f1-93bc-56a91ddf55fa",
   "metadata": {},
   "outputs": [
    {
     "name": "stdin",
     "output_type": "stream",
     "text": [
      "Enter the unit of electricity consumed:  310\n"
     ]
    },
    {
     "name": "stdout",
     "output_type": "stream",
     "text": [
      "Total Electricity bill should be : 2250.0\n"
     ]
    }
   ],
   "source": [
    "unit_consumed = int(input(\"Enter the unit of electricity consumed: \"))\n",
    "total_bill = 0\n",
    "per_unit_charge_1 = 4.5\n",
    "per_unit_charge_2 = 6\n",
    "per_unit_charge_3 = 10\n",
    "per_unit_charge_4 = 20\n",
    "\n",
    "# Calculate bill for first 100 units\n",
    "if unit_consumed <= 100:\n",
    "    total_bill = unit_consumed*per_unit_charge_1\n",
    "# Calculate bill for next 100 units \n",
    "elif unit_consumed <= 200:\n",
    "    total_bill = 100 * per_unit_charge_1 + (unit_consumed - 100) * per_unit_charge_2\n",
    "# Calculate bill for next 100 units \n",
    "elif unit_consumed <= 300:\n",
    "    total_bill = 100 * per_unit_charge_1 + 100 * per_unit_charge_2 + (unit_consumed -200) * per_unit_charge_3\n",
    "else:\n",
    "    total_bill = 100 * per_unit_charge_1 + 100 * per_unit_charge_2 + 100 * per_unit_charge_3 + (unit_consumed -300) * per_unit_charge_4\n",
    "    \n",
    "print(\"Total Electricity bill should be :\", total_bill)\n"
   ]
  },
  {
   "cell_type": "code",
   "execution_count": 25,
   "id": "e371f23b-bdf0-4c00-b7f5-d23fee995953",
   "metadata": {},
   "outputs": [],
   "source": [
    "# Q4. Create a list of numbers from 1 to 100. Use for loop and while loop to calculate the cube of each\n",
    "# number and if the cube of that number is divisible by 4 or 5 then append that number in a list and print\n",
    "# that list."
   ]
  },
  {
   "cell_type": "code",
   "execution_count": 26,
   "id": "ec5d811e-5579-43ec-bea3-4dc67347d7e5",
   "metadata": {},
   "outputs": [
    {
     "name": "stdout",
     "output_type": "stream",
     "text": [
      "[2, 4, 5, 6, 8, 10, 12, 14, 15, 16, 18, 20, 22, 24, 25, 26, 28, 30, 32, 34, 35, 36, 38, 40, 42, 44, 45, 46, 48, 50, 52, 54, 55, 56, 58, 60, 62, 64, 65, 66, 68, 70, 72, 74, 75, 76, 78, 80, 82, 84, 85, 86, 88, 90, 92, 94, 95, 96, 98, 100]\n"
     ]
    }
   ],
   "source": [
    "cube_list = []\n",
    "for i in range (1,101):\n",
    "    cube = i ** 3\n",
    "    if cube % 4 == 0 or cube % 5 == 0:\n",
    "        cube_list.append(i)\n",
    "print(cube_list)"
   ]
  },
  {
   "cell_type": "code",
   "execution_count": 27,
   "id": "1910a463-8b7b-41e4-9dcc-13b22f94f1cd",
   "metadata": {},
   "outputs": [
    {
     "name": "stdout",
     "output_type": "stream",
     "text": [
      "[2, 4, 5, 6, 8, 10, 12, 14, 15, 16, 18, 20, 22, 24, 25, 26, 28, 30, 32, 34, 35, 36, 38, 40, 42, 44, 45, 46, 48, 50, 52, 54, 55, 56, 58, 60, 62, 64, 65, 66, 68, 70, 72, 74, 75, 76, 78, 80, 82, 84, 85, 86, 88, 90, 92, 94, 95, 96, 98, 100]\n"
     ]
    }
   ],
   "source": [
    "cube_list = []\n",
    "i = 1\n",
    "while i <= 100:\n",
    "    cube = i ** 3\n",
    "    if cube % 4 == 0 or cube % 5 == 0:\n",
    "        cube_list.append(i)\n",
    "    i += 1\n",
    "\n",
    "print(cube_list)"
   ]
  },
  {
   "cell_type": "code",
   "execution_count": 29,
   "id": "7d7e7e8b-d3d0-4ab2-8834-26c35e79215f",
   "metadata": {},
   "outputs": [],
   "source": [
    "#Write a program to filter count vowels in the below-given string.\n",
    "#string = \"I want to become a data scientist\""
   ]
  },
  {
   "cell_type": "code",
   "execution_count": 46,
   "id": "342896d2-55d5-47fe-8a99-419292338e57",
   "metadata": {},
   "outputs": [
    {
     "name": "stdout",
     "output_type": "stream",
     "text": [
      "Total Number of Vowels in this String =  12\n"
     ]
    }
   ],
   "source": [
    "string = \"I want to become a data scientist\"\n",
    "count = 0\n",
    "for i in string:\n",
    "\tif (i == 'a' or i == 'e' or i == 'i' or i == 'o' or i == 'u' or i == 'A' or i == 'E' or i == 'I' or i == 'O' or i == 'U') :\n",
    "        \tcount = count + 1\n",
    "else:\n",
    "    print(\"Total Number of Vowels in this String = \", count)"
   ]
  }
 ],
 "metadata": {
  "kernelspec": {
   "display_name": "Python 3 (ipykernel)",
   "language": "python",
   "name": "python3"
  },
  "language_info": {
   "codemirror_mode": {
    "name": "ipython",
    "version": 3
   },
   "file_extension": ".py",
   "mimetype": "text/x-python",
   "name": "python",
   "nbconvert_exporter": "python",
   "pygments_lexer": "ipython3",
   "version": "3.10.8"
  }
 },
 "nbformat": 4,
 "nbformat_minor": 5
}
